{
 "cells": [
  {
   "cell_type": "code",
   "execution_count": 1,
   "metadata": {},
   "outputs": [],
   "source": [
    "import os\n",
    "import gc\n",
    "import numpy as np\n",
    "from tqdm import tqdm_notebook, tqdm\n",
    "import pandas as pd"
   ]
  },
  {
   "cell_type": "code",
   "execution_count": 7,
   "metadata": {},
   "outputs": [
    {
     "name": "stdout",
     "output_type": "stream",
     "text": [
      "Densenet121(512, 512, 4)_444_8_True_0.002_True_70_15_usemean_only512_multi_v23_addext_50p_dual_wsample_71437_11epoch_f1_6042_8.npy local_score: 0.8110429317236038\n",
      "Densenet121(512, 512, 4)_777_8_True_0.002_True_70_15_usemean_only512_multi_v23_addext_50p_dual_wsample_71437_0epoch_f1_5459_8.npy local_score: 0.7544803447673966\n",
      "desne121_777.npy local_score: 0.757304545932076\n",
      "InceptionResnetV2(512, 512, 4)_189_6_True_0.002_True_70_15_usemean_only512_multi_v23_addext_50p_dual_wsample_71437_12epoch_f1_3663_8.npy local_score: 0.6617097676496021\n",
      "SeResnet18(512, 512, 4)_123_48_True_0.002_True_30_4_usemean_only512_multi_v23_addext_50p_dual_wsample_71437_4epoch_f1_5391_8.npy local_score: 0.7304241432885006\n",
      "SeResnet18(512, 512, 4)_777_48_True_0.002_True_30_4_usemean_only512_multi_v23_addext_50p_dual_wsample_71437_13epoch_f1_5006_8.npy local_score: 0.7182992288808233\n",
      "Xception(512, 512, 4)_555_8_True_0.002_True_30_7_usemean_only512_multi_v23_addext_50p_dual_wsample_71437_14epoch_f1_4260_8.npy local_score: 0.7218467265396887\n",
      "Xception(512, 512, 4)_555_8_True_0.002_True_30_7_usemean_only512_multi_v23_addext_50p_dual_wsample_71437_15epoch_f1_4459_8.npy local_score: 0.7182005745869459\n"
     ]
    }
   ],
   "source": [
    "prob_dir = 'Z:/kaggle/protein/probs/'\n",
    "DIR = './input/'\n",
    "\n",
    "submit = pd.read_csv(DIR + '/sample_submission.csv')\n",
    "def load_npy(dirname):\n",
    "    prob_npys = []\n",
    "    filenames = os.listdir(dirname)\n",
    "    for filename in filenames:\n",
    "        full_filename = os.path.join(dirname, filename)\n",
    "        ext = os.path.splitext(full_filename)[-1]\n",
    "        if ext == '.npy' :#and filename.find('densenet121')>0:# and filename.find(select_prefix2)<0: \n",
    "\n",
    "            prob = np.load(full_filename)\n",
    "            print(filename,'local_score:',prob.item().get('local_score'))\n",
    "            prob_npys.append(np.load(full_filename))\n",
    "    return prob_npys\n",
    "\n",
    "\n",
    "\n",
    "def make_sub(PP, name , SOFT = None):\n",
    "    prediction = []\n",
    "    cnt = 0\n",
    "    if SOFT is None:\n",
    "        PP_MAX = np.argmax(PP, axis=1)\n",
    "    else:\n",
    "        PP_MAX = np.argmax(SOFT[:,:28], axis=1)\n",
    "    for row in tqdm_notebook(range(submit.shape[0])):    \n",
    "        str_label = ''\n",
    "        for col in range(PP.shape[1]):\n",
    "            if(PP[row, col] < 0):\n",
    "                str_label += ''\n",
    "            else:\n",
    "                str_label += str(col) + ' '\n",
    "        if str_label == '':\n",
    "            str_label += str(PP_MAX[row]) + ' '\n",
    "            cnt+=1\n",
    "        prediction.append(str_label.strip())\n",
    "    submit['Predicted'] = np.array(prediction)\n",
    "    sub_file_path = './subs/' + name+'.csv'\n",
    "    submit.to_csv(sub_file_path, index=False)\n",
    "    print('softlabelcnt',cnt)\n",
    "    return np.array(prediction)\n",
    "\n",
    "prob_npys = load_npy(prob_dir)"
   ]
  },
  {
   "cell_type": "code",
   "execution_count": 12,
   "metadata": {},
   "outputs": [
    {
     "name": "stdout",
     "output_type": "stream",
     "text": [
      "[0.40909091 0.09090909 0.31818182 0.06818182 0.02272727 0.02272727\n",
      " 0.04545455 0.02272727]\n",
      "0\n",
      "1\n",
      "2\n",
      "3\n",
      "4\n",
      "5\n",
      "6\n",
      "7\n"
     ]
    },
    {
     "data": {
      "application/vnd.jupyter.widget-view+json": {
       "model_id": "dd738d0ca0594ef9883e213d75c30188",
       "version_major": 2,
       "version_minor": 0
      },
      "text/plain": [
       "HBox(children=(IntProgress(value=0, max=11702), HTML(value='')))"
      ]
     },
     "metadata": {},
     "output_type": "display_data"
    },
    {
     "name": "stdout",
     "output_type": "stream",
     "text": [
      "\n",
      "softlabelcnt 471\n"
     ]
    },
    {
     "data": {
      "text/plain": [
       "array(['2', '5', '0 5 25', ..., '7', '1', '0 25'], dtype='<U13')"
      ]
     },
     "execution_count": 12,
     "metadata": {},
     "output_type": "execute_result"
    }
   ],
   "source": [
    "weights = np.array([1.8\n",
    "                    ,0.4\n",
    "                    ,1.4\n",
    "                    ,0.3\n",
    "                    ,0.1\n",
    "                    ,0.1\n",
    "                   ,0.2\n",
    "                   ,0.1])\n",
    "\n",
    "weights = weights/sum(weights)\n",
    "print(weights)\n",
    "merge_sum = np.zeros(prob_npys[0].item().get('merge').shape)\n",
    "soft_sum = np.zeros(prob_npys[0].item().get('soft').shape)\n",
    "\n",
    "for idx, prob in enumerate(prob_npys):\n",
    "    print(idx)\n",
    "    merge_prob = prob.item().get('merge').copy()\n",
    "    soft_prob =  prob.item().get('soft').copy()\n",
    "    thr = prob.item().get('best_thr')\n",
    "    merge_prob  -= thr\n",
    "\n",
    "    merge_sum += merge_prob*weights[idx]\n",
    "    soft_sum += soft_prob\n",
    "    #print(prob.item().get('merge').mean(axis=0))\n",
    "    \n",
    "make_sub(merge_sum, 'ensemble_test',soft_sum)"
   ]
  },
  {
   "cell_type": "code",
   "execution_count": 118,
   "metadata": {},
   "outputs": [
    {
     "data": {
      "text/plain": [
       "-0.4127361863665077"
      ]
     },
     "execution_count": 118,
     "metadata": {},
     "output_type": "execute_result"
    }
   ],
   "source": [
    "merge_sum.mean()"
   ]
  },
  {
   "cell_type": "code",
   "execution_count": 117,
   "metadata": {},
   "outputs": [
    {
     "data": {
      "text/plain": [
       "6.997986137866974"
      ]
     },
     "execution_count": 117,
     "metadata": {},
     "output_type": "execute_result"
    }
   ],
   "source": [
    "soft_sum.max()"
   ]
  },
  {
   "cell_type": "code",
   "execution_count": null,
   "metadata": {},
   "outputs": [],
   "source": []
  }
 ],
 "metadata": {
  "kernelspec": {
   "display_name": "py36",
   "language": "python",
   "name": "py36"
  },
  "language_info": {
   "codemirror_mode": {
    "name": "ipython",
    "version": 3
   },
   "file_extension": ".py",
   "mimetype": "text/x-python",
   "name": "python",
   "nbconvert_exporter": "python",
   "pygments_lexer": "ipython3",
   "version": "3.6.6"
  }
 },
 "nbformat": 4,
 "nbformat_minor": 2
}
